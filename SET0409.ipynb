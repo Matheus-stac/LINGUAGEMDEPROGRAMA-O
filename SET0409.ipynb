{
  "nbformat": 4,
  "nbformat_minor": 0,
  "metadata": {
    "colab": {
      "provenance": [],
      "authorship_tag": "ABX9TyMrlyCBeRl4Yg8corffwJsU",
      "include_colab_link": true
    },
    "kernelspec": {
      "name": "python3",
      "display_name": "Python 3"
    },
    "language_info": {
      "name": "python"
    }
  },
  "cells": [
    {
      "cell_type": "markdown",
      "metadata": {
        "id": "view-in-github",
        "colab_type": "text"
      },
      "source": [
        "<a href=\"https://colab.research.google.com/github/Matheus-stac/LINGUAGEMDEPROGRAMA-O/blob/main/SET0409.ipynb\" target=\"_parent\"><img src=\"https://colab.research.google.com/assets/colab-badge.svg\" alt=\"Open In Colab\"/></a>"
      ]
    },
    {
      "cell_type": "code",
      "execution_count": 2,
      "metadata": {
        "colab": {
          "base_uri": "https://localhost:8080/"
        },
        "id": "Ow3wp9n3JsWz",
        "outputId": "ede8a00a-736d-4581-ddf4-4ce6f3b9d726"
      },
      "outputs": [
        {
          "output_type": "stream",
          "name": "stdout",
          "text": [
            "digite valor em polegadas: 2\n",
            "50.8\n"
          ]
        }
      ],
      "source": [
        "P = float(input(\"digite valor em polegadas: \"))\n",
        "mm = P * 25.4\n",
        "print(mm)"
      ]
    },
    {
      "cell_type": "markdown",
      "source": [
        "FRONT MATH IMPOT PI\n",
        "\n",
        "180-PI\n",
        "Vgraus-Vrad\n",
        "Vrad=Vgraus * pi/180"
      ],
      "metadata": {
        "id": "RAunM2RpPOm8"
      }
    },
    {
      "cell_type": "code",
      "source": [
        "from math import pi\n",
        "#VOU SOLICITAR SOMENTE O RAIO\n",
        "print(\"programar para calcular volume da esfera!\")\n",
        "RAIO = float(input(\"Digite raio: \"))\n",
        "v = (4/3) * pi * (RAIO**3)\n",
        "print(\"Voume da esfera = \" , v)"
      ],
      "metadata": {
        "colab": {
          "base_uri": "https://localhost:8080/"
        },
        "id": "MhcGuKgsSFZe",
        "outputId": "57c66471-929b-4143-b32c-3db8839ca72d"
      },
      "execution_count": 12,
      "outputs": [
        {
          "output_type": "stream",
          "name": "stdout",
          "text": [
            "programar para calcular volume da esfera!\n",
            "Digite raio: 5\n",
            "Voume da esfera =  523.5987755982989\n"
          ]
        }
      ]
    }
  ]
}