{
  "nbformat": 4,
  "nbformat_minor": 0,
  "metadata": {
    "colab": {
      "provenance": [],
      "authorship_tag": "ABX9TyM+rhlpCZ62n5VUhYqDtLSb",
      "include_colab_link": true
    },
    "kernelspec": {
      "name": "python3",
      "display_name": "Python 3"
    },
    "language_info": {
      "name": "python"
    }
  },
  "cells": [
    {
      "cell_type": "markdown",
      "metadata": {
        "id": "view-in-github",
        "colab_type": "text"
      },
      "source": [
        "<a href=\"https://colab.research.google.com/github/Matheus-stac/LINGUAGEMDEPROGRAMA-O/blob/main/SET0409.ipynb\" target=\"_parent\"><img src=\"https://colab.research.google.com/assets/colab-badge.svg\" alt=\"Open In Colab\"/></a>"
      ]
    },
    {
      "cell_type": "code",
      "execution_count": 2,
      "metadata": {
        "colab": {
          "base_uri": "https://localhost:8080/"
        },
        "id": "Ow3wp9n3JsWz",
        "outputId": "ede8a00a-736d-4581-ddf4-4ce6f3b9d726"
      },
      "outputs": [
        {
          "output_type": "stream",
          "name": "stdout",
          "text": [
            "digite valor em polegadas: 2\n",
            "50.8\n"
          ]
        }
      ],
      "source": [
        "P = float(input(\"digite valor em polegadas: \"))\n",
        "mm = P * 25.4\n",
        "print(mm)"
      ]
    }
  ]
}