{
  "nbformat": 4,
  "nbformat_minor": 0,
  "metadata": {
    "colab": {
      "provenance": [],
      "authorship_tag": "ABX9TyNhpGRQ8X4b+t3Yfzsf6irq",
      "include_colab_link": true
    },
    "kernelspec": {
      "name": "python3",
      "display_name": "Python 3"
    },
    "language_info": {
      "name": "python"
    }
  },
  "cells": [
    {
      "cell_type": "markdown",
      "metadata": {
        "id": "view-in-github",
        "colab_type": "text"
      },
      "source": [
        "<a href=\"https://colab.research.google.com/github/Matheus-stac/LINGUAGEMDEPROGRAMA-O/blob/main/Untitled2.ipynb\" target=\"_parent\"><img src=\"https://colab.research.google.com/assets/colab-badge.svg\" alt=\"Open In Colab\"/></a>"
      ]
    },
    {
      "cell_type": "code",
      "execution_count": 1,
      "metadata": {
        "colab": {
          "base_uri": "https://localhost:8080/"
        },
        "id": "5BYWXbgBa0Lq",
        "outputId": "21c24119-a01a-4395-a7d4-11fb111775c4"
      },
      "outputs": [
        {
          "output_type": "stream",
          "name": "stdout",
          "text": [
            "Digite um valor inteiro: 3\n",
            "Múltiplo\n"
          ]
        }
      ],
      "source": [
        "# Início do programa\n",
        "\n",
        "# Ler um valor inteiro do usuário\n",
        "x = int(input(\"Digite um valor inteiro: \"))\n",
        "\n",
        "# Calcular o resto da divisão de x por 3\n",
        "r = x % 3\n",
        "\n",
        "# Verificar se o resto é zero\n",
        "if r == 0:\n",
        "  # Se r é zero, x é múltiplo de 3\n",
        "  print(\"Múltiplo\")\n",
        "else:\n",
        "  # Se r não é zero, x não é multiplo de 3\n",
        "  print(\"Não múltiplo\")\n",
        "\n",
        "#Fim do programa"
      ]
    },
    {
      "cell_type": "code",
      "source": [
        "# Início do programa para calcular a média ponderada\n",
        "\n",
        "# Ler as notas a e b do curso\n",
        "a = float(input(\"Digite a nota a (peso 2): \"))\n",
        "b = float(input(\"Digite a nota b (peso 3): \"))\n",
        "\n",
        "# Calcular a média ponderada\n",
        "peso_a = 2\n",
        "peso_b = 3\n",
        "media_ponderada = (a * peso_a + b * peso_b) / ( peso_a + peso_b)\n",
        "\n",
        "#Verificar se o aluno foi aprovado\n",
        "if media_ponderada >= 5:\n",
        "  status = \"Aprovado\"\n",
        "else:\n",
        "  status = \"Reprovado\"\n",
        "\n",
        "# Exibir a média e o status\n",
        "print(f\"Média ponderada: {media_ponderada: .2f} - Status: {status}\")\n",
        "\n",
        "#Fim do programa"
      ],
      "metadata": {
        "colab": {
          "base_uri": "https://localhost:8080/"
        },
        "id": "5Ol2Vlr0bE3j",
        "outputId": "d4e49dee-92dc-4b2e-e4f4-343562067a1c"
      },
      "execution_count": 2,
      "outputs": [
        {
          "output_type": "stream",
          "name": "stdout",
          "text": [
            "Digite a nota a (peso 2): 6\n",
            "Digite a nota b (peso 3): 6\n",
            "Média ponderada:  6.00 - Status: Aprovado\n"
          ]
        }
      ]
    }
  ]
}